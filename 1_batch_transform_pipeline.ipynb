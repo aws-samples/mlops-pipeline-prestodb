{
 "cells": [
  {
   "cell_type": "markdown",
   "metadata": {},
   "source": [
    "# Batch Transform on Amazon SageMaker Pipelines Integrated with PrestoDB\n"
   ]
  },
  {
   "cell_type": "markdown",
   "metadata": {},
   "source": [
    "***This notebook works best with the `Data Science 3.0` kernel on an `ml.t3.medium` instance type***.\n",
    "\n",
    "Run the [0_model_training_pipeline](./0_model_training_pipeline.ipynb) notebook prior to running the notebook. This notebook runs a batch transform using the model trained in the previous notebook. It does so by running the following steps:\n",
    "\n",
    "1. Extract the latest approved model from the SageMaker model registry.\n",
    "\n",
    "1. Read raw data for inference from PrestoDB and stores in an Amazon S3 bucket.\n",
    "\n",
    "1. Create a SageMaker pipeline with a data processing step and a batch transform step to provide inference on the data. The inference results are also stored in S3."
   ]
  },
  {
   "cell_type": "code",
   "execution_count": 2,
   "metadata": {
    "tags": []
   },
   "outputs": [],
   "source": [
    "#import sys\n",
    "#!{sys.executable} -m pip install -r requirements.txt"
   ]
  },
  {
   "cell_type": "code",
   "execution_count": 9,
   "metadata": {
    "tags": []
   },
   "outputs": [],
   "source": [
    "## Install the necessary boto3 and sagemaker libraries to initialize session\n",
    "import json\n",
    "import boto3\n",
    "import time\n",
    "import logging\n",
    "import sagemaker\n",
    "import sagemaker.session\n",
    "from typing import Dict, List\n",
    "from datetime import datetime, timedelta\n",
    "from sagemaker.workflow.parameters import ParameterString\n",
    "from sagemaker.workflow.pipeline_context import PipelineSession\n",
    "from utils import load_config, print_pipeline_execution_summary\n",
    "\n",
    "from sagemaker.workflow.functions import Join\n",
    "from sagemaker.processing import  ProcessingOutput\n",
    "from sagemaker.workflow.steps import ProcessingStep\n",
    "from sagemaker.processing import FrameworkProcessor\n",
    "from sagemaker.sklearn.processing import SKLearnProcessor\n",
    "from sagemaker.workflow.execution_variables import ExecutionVariables\n",
    "\n",
    "from sagemaker.model import Model\n",
    "from sagemaker.inputs import CreateModelInput\n",
    "from sagemaker.workflow.model_step import ModelStep\n",
    "from sagemaker.transformer import Transformer"
   ]
  },
  {
   "cell_type": "code",
   "execution_count": 10,
   "metadata": {
    "tags": []
   },
   "outputs": [],
   "source": [
    "## set the logger to track all of the logs as this pipeline runs\n",
    "logging.basicConfig(format='[%(asctime)s] p%(process)s {%(filename)s:%(lineno)d} %(levelname)s - %(message)s', level=logging.INFO)\n",
    "logger = logging.getLogger(__name__)"
   ]
  },
  {
   "cell_type": "markdown",
   "metadata": {},
   "source": [
    "### Load the Config.yml file that contains information that is used across this pipeline"
   ]
  },
  {
   "cell_type": "code",
   "execution_count": 11,
   "metadata": {
    "tags": []
   },
   "outputs": [
    {
     "name": "stderr",
     "output_type": "stream",
     "text": [
      "[2024-02-25 00:02:24,610] p6796 {2294058105.py:2} INFO - {\n",
      "  \"aws\": {\n",
      "    \"region\": \"us-east-1\",\n",
      "    \"sagemaker_execution_role_name\": \"AmazonSageMaker-ExecutionRole-20230807T175994\",\n",
      "    \"sagemaker_execution_role_arn\": \"arn:aws:iam::{account_id}:role/service-role/{role}\",\n",
      "    \"s3_bucket\": \"sagemaker-{region}-{account_id}\",\n",
      "    \"s3_prefix\": \"mlops-pipeline-model\"\n",
      "  },\n",
      "  \"presto\": {\n",
      "    \"host\": \"3.93.186.209\",\n",
      "    \"parameter\": \"8080\",\n",
      "    \"presto_credentials\": \"presto-credentials\",\n",
      "    \"catalog\": \"tpch\",\n",
      "    \"schema\": \"tiny\"\n",
      "  },\n",
      "  \"pipeline\": {\n",
      "    \"training_pipeline_name\": \"mlops-pipeline-presto\",\n",
      "    \"transform_pipeline_name\": \"mlops-batch-inference\",\n",
      "    \"execution_display_name\": \"mlops-prestodb-pipeline\",\n",
      "    \"base_job_name\": \"mlops-prestodb\",\n",
      "    \"tags\": [\n",
      "      {\n",
      "        \"Key\": \"team\",\n",
      "        \"Value\": \"my-team\"\n",
      "      }\n",
      "    ]\n",
      "  },\n",
      "  \"training_step\": {\n",
      "    \"training_target\": \"high_value_order\",\n",
      "    \"training_features\": [\n",
      "      \"total_extended_price\",\n",
      "      \"avg_discount\",\n",
      "      \"total_quantity\"\n",
      "    ],\n",
      "    \"sklearn_framework_version\": \"0.23-1\",\n",
      "    \"n_estimators\": 75,\n",
      "    \"max_depth\": 10,\n",
      "    \"min_samples_split\": 2,\n",
      "    \"max_features\": \"sqrt\",\n",
      "    \"instance_type\": \"ml.m5.xlarge\",\n",
      "    \"instance_count\": 1,\n",
      "    \"base_job_name\": \"rf-sklearn\",\n",
      "    \"tags\": [\n",
      "      {\n",
      "        \"Key\": \"team\",\n",
      "        \"Value\": \"my-team\"\n",
      "      }\n",
      "    ]\n",
      "  },\n",
      "  \"tuning_step\": {\n",
      "    \"step_name\": \"Train-And-Tune-Model\",\n",
      "    \"maximum_parallel_training_jobs\": 1,\n",
      "    \"maximum_training_jobs\": 2,\n",
      "    \"hyperparam_ranges\": {\n",
      "      \"n_estimators\": [\n",
      "        10,\n",
      "        150\n",
      "      ],\n",
      "      \"max_depth\": [\n",
      "        3,\n",
      "        20\n",
      "      ],\n",
      "      \"min_samples_split\": [\n",
      "        2,\n",
      "        10\n",
      "      ],\n",
      "      \"max_features\": [\n",
      "        \"sqrt\",\n",
      "        \"log2\"\n",
      "      ]\n",
      "    },\n",
      "    \"metric_definitions\": [\n",
      "      {\n",
      "        \"Name\": \"validation:auc\",\n",
      "        \"Regex\": \"auc (\\\\S+)\"\n",
      "      }\n",
      "    ],\n",
      "    \"objective_metric_name\": \"validation:auc\"\n",
      "  },\n",
      "  \"evaluation_step\": {\n",
      "    \"step_name\": \"Evaluate-Model\",\n",
      "    \"accuracy_condition_threshold\": 0.7,\n",
      "    \"instance_type\": \"ml.m5.xlarge\",\n",
      "    \"instance_count\": 1,\n",
      "    \"evaluation_filename\": \"evaluation.json\"\n",
      "  },\n",
      "  \"transform_step\": {\n",
      "    \"step_name\": \"mlops-RandomForestTransform\",\n",
      "    \"instance_type\": \"ml.m5.xlarge\",\n",
      "    \"instance_count\": 1,\n",
      "    \"num_hours_to_go_back\": 1,\n",
      "    \"output_prefix\": \"batch_transform_output\",\n",
      "    \"tags\": [\n",
      "      {\n",
      "        \"Key\": \"team\",\n",
      "        \"Value\": \"my-team\"\n",
      "      }\n",
      "    ]\n",
      "  },\n",
      "  \"data_processing_step\": {\n",
      "    \"step_name\": \"Preprocess-Data\",\n",
      "    \"processing_instance_type\": \"ml.c5.xlarge\",\n",
      "    \"instance_count\": 1,\n",
      "    \"tags\": [\n",
      "      {\n",
      "        \"Key\": \"team\",\n",
      "        \"Value\": \"my-team\"\n",
      "      }\n",
      "    ]\n",
      "  },\n",
      "  \"register_model_step\": {\n",
      "    \"step_name\": \"Register-Model\",\n",
      "    \"model_group\": \"mlops-presto\",\n",
      "    \"model_name\": \"mlops-presto\",\n",
      "    \"approval_status\": \"PendingManualApproval\",\n",
      "    \"inference_instance_types\": [\n",
      "      \"ml.t2.medium\",\n",
      "      \"ml.m5.xlarge\",\n",
      "      \"ml.m5.large\"\n",
      "    ],\n",
      "    \"transform_instance_types\": [\n",
      "      \"ml.m5.xlarge\"\n",
      "    ],\n",
      "    \"tags\": [\n",
      "      {\n",
      "        \"Key\": \"team\",\n",
      "        \"Value\": \"my-team\"\n",
      "      }\n",
      "    ]\n",
      "  },\n",
      "  \"fail_step\": {\n",
      "    \"step_name\": \"AccuracyThresholdFailed\"\n",
      "  },\n",
      "  \"condition_step\": {\n",
      "    \"step_name\": \"Accuracy-Condition\"\n",
      "  },\n",
      "  \"realtime_endpoint\": {\n",
      "    \"endpoint_config_name\": \"random-forest-classifier\",\n",
      "    \"endpoint_name\": \"mlops-realtime-ep\",\n",
      "    \"instance_type\": \"ml.m5.xlarge\",\n",
      "    \"min_instance_count\": 1,\n",
      "    \"max_instance_count\": 3\n",
      "  },\n",
      "  \"scripts\": {\n",
      "    \"source_dir\": \"code\",\n",
      "    \"preprocess_data\": \"presto_preprocess_for_training.py\",\n",
      "    \"evaluation\": \"code/evaluate.py\",\n",
      "    \"batch_transform_get_data\": \"presto_preprocess_for_batch_inference.py\",\n",
      "    \"batch_inference\": \"code/inference.py\",\n",
      "    \"training_script\": \"code/training.py\"\n",
      "  }\n",
      "}\n"
     ]
    }
   ],
   "source": [
    "config = load_config('config.yml')\n",
    "logger.info(json.dumps(config, indent=2))"
   ]
  },
  {
   "cell_type": "code",
   "execution_count": 12,
   "metadata": {
    "tags": []
   },
   "outputs": [
    {
     "name": "stderr",
     "output_type": "stream",
     "text": [
      "[2024-02-25 00:02:25,063] p6796 {751560243.py:15} INFO - bucket=sagemaker-us-east-1-218208277580, prefix=mlops-pipeline-model, role=arn:aws:iam::218208277580:role/service-role/AmazonSageMaker-ExecutionRole-20230807T175994\n"
     ]
    }
   ],
   "source": [
    "## initialize the sagemaker session, region, role bucket and pipeline session\n",
    "session = sagemaker.session.Session()\n",
    "region = session.boto_region_name\n",
    "pipeline_session = PipelineSession()\n",
    "\n",
    "ci = boto3.client('sts').get_caller_identity()\n",
    "\n",
    "role_name = config['aws']['sagemaker_execution_role_name']\n",
    "config['aws']['sagemaker_execution_role_arn'] = config['aws']['sagemaker_execution_role_arn'].format(account_id=ci['Account'], role=role_name)\n",
    "role = config['aws']['sagemaker_execution_role_arn']\n",
    "\n",
    "bucket = config['aws']['s3_bucket'].format(account_id=ci['Account'], region=region)\n",
    "prefix = config['aws']['s3_prefix']  # Prefix to S3 artifacts\n",
    "\n",
    "logger.info(f\"bucket={bucket}, prefix={prefix}, role={role}\")"
   ]
  },
  {
   "cell_type": "code",
   "execution_count": 13,
   "metadata": {
    "tags": []
   },
   "outputs": [
    {
     "name": "stderr",
     "output_type": "stream",
     "text": [
      "[2024-02-25 00:02:25,073] p6796 {1620125757.py:3} INFO - the training features being used for this pipeline --> [\"total_extended_price\", \"avg_discount\", \"total_quantity\"]\n"
     ]
    }
   ],
   "source": [
    "# Convert your list to a JSON string\n",
    "training_features_str = json.dumps(config['training_step']['training_features'])\n",
    "logger.info(f\"the training features being used for this pipeline --> {training_features_str}\")\n",
    "\n",
    "# Define new pipeline parameters\n",
    "host_parameter = ParameterString(name=\"HostParameter\", default_value=config['presto']['host'])\n",
    "port_parameter = ParameterString(name=\"PortParameter\", default_value=config['presto']['parameter'])\n",
    "target_parameter = ParameterString(name=\"Target\", default_value=config['training_step']['training_target'])\n",
    "feature_parameter = ParameterString(name=\"Feature\", default_value=training_features_str)\n",
    "\n",
    "## presto credential key and region pipeline parameters\n",
    "presto_parameter = ParameterString(name=\"PrestoParameter\", default_value=config['presto']['presto_credentials'])\n",
    "region_parameter = ParameterString(name=\"Region\", default_value=config['aws']['region'])\n",
    "\n",
    "## represents the parameters being used to track the catalog and the schema needed to connect to the presto server\n",
    "presto_catalog_parameter = ParameterString(name=\"Catalog\", default_value=config['presto']['catalog'])\n",
    "presto_schema_parameter = ParameterString(name=\"Schema\", default_value=config['presto']['schema'])"
   ]
  },
  {
   "cell_type": "markdown",
   "metadata": {},
   "source": [
    "<a id='parameters'></a>\n",
    "\n",
    "### Pipeline input parameters\n",
    "\n",
    "Pipeline Parameters are input parameter when triggering a pipeline execution. They need to be explicitly defined when creating the pipeline and contain default values.\n",
    "\n",
    "Create parameters for the inputs to the pipeline. In this case, parameters will be used for:\n",
    "\n",
    "- `ProcessingInstanceType` - What EC2 instance type to use for processing.\n",
    "- `TrainingInstanceType` - What EC2 instance type to use for training."
   ]
  },
  {
   "cell_type": "code",
   "execution_count": 14,
   "metadata": {
    "tags": []
   },
   "outputs": [
    {
     "name": "stderr",
     "output_type": "stream",
     "text": [
      "[2024-02-25 00:02:26,260] p6796 {estimator.py:294} WARNING - instance_type is a PipelineVariable (<class 'sagemaker.workflow.parameters.ParameterString'>). Its interpreted value in execution time should not be of GPU types since GPU training is not supported for Scikit-Learn.\n",
      "[2024-02-25 00:02:26,273] p6796 {utilities.py:422} WARNING - The input argument instance_type of function (sagemaker.image_uris.retrieve) is a pipeline variable (<class 'sagemaker.workflow.parameters.ParameterString'>), which is interpreted in pipeline execution time only. As the function needs to evaluate the argument value in SDK compile time, the default_value of this Parameter object will be used to override it. Please make sure the default_value is valid.\n",
      "[2024-02-25 00:02:26,295] p6796 {utilities.py:422} WARNING - The input argument instance_type of function (sagemaker.image_uris.get_training_image_uri) is a pipeline variable (<class 'sagemaker.workflow.parameters.ParameterString'>), which is interpreted in pipeline execution time only. As the function needs to evaluate the argument value in SDK compile time, the default_value of this Parameter object will be used to override it. Please make sure the default_value is valid.\n"
     ]
    }
   ],
   "source": [
    "from sagemaker.sklearn.processing import SKLearnProcessor\n",
    "\n",
    "# What instance type to use for processing.\n",
    "processing_instance_type = ParameterString(\n",
    "    name=\"ProcessingInstanceType\", default_value=config['data_processing_step']['processing_instance_type']\n",
    ")\n",
    "\n",
    "\n",
    "# Create SKlearn processor object,\n",
    "# The object contains information about what instance type to use, the IAM role to use etc.\n",
    "# A managed processor comes with a preconfigured container, so only specifying version is required.\n",
    "\n",
    "est_cls = sagemaker.sklearn.estimator.SKLearn\n",
    "\n",
    "sklearn_processor = FrameworkProcessor(\n",
    "                                     estimator_cls=est_cls,\n",
    "                                     framework_version=config['training_step']['sklearn_framework_version'],\n",
    "                                     role=role,\n",
    "                                     instance_type=processing_instance_type,\n",
    "                                     instance_count=config['data_processing_step']['instance_count'],\n",
    "                                     tags=config['data_processing_step']['tags'], \n",
    "                                     sagemaker_session=pipeline_session,\n",
    "                                     base_job_name=config['pipeline']['base_job_name'], )"
   ]
  },
  {
   "cell_type": "markdown",
   "metadata": {},
   "source": [
    "#### Create an Image URI object to use while creating the model from the approved model in the registry"
   ]
  },
  {
   "cell_type": "code",
   "execution_count": 15,
   "metadata": {
    "tags": []
   },
   "outputs": [
    {
     "name": "stderr",
     "output_type": "stream",
     "text": [
      "[2024-02-25 00:02:29,691] p6796 {2531010310.py:9} INFO - processing step image_uri=683313688378.dkr.ecr.us-east-1.amazonaws.com/sagemaker-scikit-learn:0.23-1-cpu-py3\n"
     ]
    }
   ],
   "source": [
    "# Fetch container to use for training\n",
    "image_uri = sagemaker.image_uris.retrieve(\n",
    "    framework=\"sklearn\",\n",
    "    region=config['aws']['region'],\n",
    "    version=config['training_step']['sklearn_framework_version'],\n",
    "    py_version=\"py3\",\n",
    "    instance_type=config['data_processing_step']['processing_instance_type'],\n",
    ")\n",
    "logger.info(f\"processing step image_uri={image_uri}\")"
   ]
  },
  {
   "cell_type": "markdown",
   "metadata": {},
   "source": [
    "### Now, step is to approve the model\n",
    "---\n",
    "Finally, approve the model to launch the model deployment process"
   ]
  },
  {
   "cell_type": "code",
   "execution_count": 16,
   "metadata": {
    "tags": []
   },
   "outputs": [
    {
     "name": "stderr",
     "output_type": "stream",
     "text": [
      "[2024-02-25 00:02:31,269] p6796 {1612686606.py:18} INFO - for model_group=mlops-presto, latest_model_package_arn=arn:aws:sagemaker:us-east-1:218208277580:model-package/mlops-presto/5\n"
     ]
    }
   ],
   "source": [
    "sm = boto3.client(\"sagemaker\")\n",
    "\n",
    "# list all model packages and select the latest one\n",
    "model_packages = []\n",
    "\n",
    "for p in sm.get_paginator('list_model_packages').paginate(\n",
    "        ModelPackageGroupName=config['register_model_step']['model_group'],\n",
    "        SortBy=\"CreationTime\",\n",
    "        SortOrder=\"Descending\",\n",
    "    ):\n",
    "    model_packages.extend(p[\"ModelPackageSummaryList\"])\n",
    "\n",
    "if len(model_packages) == 0:\n",
    "    raise Exception(f\"No model package is found for {config['register_model_step']['model_group']} model package group\")\n",
    "\n",
    "## print the latest model, approve it\n",
    "latest_model_package_arn = model_packages[0][\"ModelPackageArn\"]\n",
    "logger.info(f\"for model_group={config['register_model_step']['model_group']}, latest_model_package_arn={latest_model_package_arn}\")"
   ]
  },
  {
   "cell_type": "markdown",
   "metadata": {},
   "source": [
    "The following statement sets the ModelApprovalStatus for the model package to Approved. The model package state change will launch the EventBridge rule and the rule will launch the CodePipeline CI/CD pipeline with model deployment."
   ]
  },
  {
   "cell_type": "code",
   "execution_count": 17,
   "metadata": {
    "tags": []
   },
   "outputs": [],
   "source": [
    "## updating the latest model package to approved status to use it for batch inference\n",
    "model_package_update_response = sm.update_model_package(\n",
    "    ModelPackageArn=latest_model_package_arn,\n",
    "    ModelApprovalStatus=\"Approved\",\n",
    ")"
   ]
  },
  {
   "cell_type": "markdown",
   "metadata": {},
   "source": [
    "## PART 2: Batch Transform Pipeline: Prepare Batch Data & Perform Batch Inference"
   ]
  },
  {
   "cell_type": "markdown",
   "metadata": {},
   "source": [
    "### first step is to get the latest batch data from presto and use that for batch transform step"
   ]
  },
  {
   "cell_type": "code",
   "execution_count": 18,
   "metadata": {
    "tags": []
   },
   "outputs": [
    {
     "name": "stderr",
     "output_type": "stream",
     "text": [
      "/opt/conda/lib/python3.10/site-packages/sagemaker/workflow/pipeline_context.py:332: UserWarning: Running within a PipelineSession, there will be No Wait, No Logs, and No Job being started.\n",
      "  warnings.warn(\n"
     ]
    }
   ],
   "source": [
    "# Use the sklearn_processor in a SageMaker Pipelines ProcessingStep\n",
    "# Configure the ProcessingStep\n",
    "\n",
    "## represents the output processing for the batch pre processing step\n",
    "batch_output=[\n",
    "        ProcessingOutput(\n",
    "            output_name=\"batch\",\n",
    "            source=\"/opt/ml/processing/batch\",\n",
    "            destination=Join(\n",
    "                on=\"/\",\n",
    "                values=[\n",
    "                    \"s3://{}\".format(bucket),\n",
    "                    prefix,\n",
    "                    ExecutionVariables.PIPELINE_EXECUTION_ID,\n",
    "                    \"batch\",\n",
    "                ], \n",
    "            ),\n",
    "        ),\n",
    "    ]\n",
    "\n",
    "\n",
    "# Use the sklearn_processor's run method and configure the batch preprocessing step\n",
    "step_args = sklearn_processor.run(\n",
    "    code=config['scripts']['batch_transform_get_data'],\n",
    "    source_dir=config['scripts']['source_dir'], \n",
    "    outputs=batch_output,\n",
    "    arguments=[\n",
    "        \"--host\", host_parameter,\n",
    "        \"--port\", port_parameter,\n",
    "        \"--presto_credentials_key\", presto_parameter,\n",
    "        \"--region\", region_parameter,\n",
    "        \"--presto_catalog\", presto_catalog_parameter,\n",
    "        \"--presto_schema\", presto_schema_parameter,\n",
    "    ],\n",
    ")\n",
    "\n",
    "\n",
    "batch_data_prep = ProcessingStep(\n",
    "    name=config['data_processing_step']['step_name'],\n",
    "    step_args=step_args,\n",
    ")"
   ]
  },
  {
   "cell_type": "markdown",
   "metadata": {},
   "source": [
    "### Batch Transform Configuration begins below:\n",
    "---\n",
    "\n",
    "1. Create the model with the model image uri, refer to the 'inference.py' script that grabs information on features to use while making predictions.\n",
    "\n",
    "2. Create the model which automatically triggers the training and the preprocess data step\n",
    "\n",
    "3. Run the transformer step on the created model and "
   ]
  },
  {
   "cell_type": "code",
   "execution_count": 19,
   "metadata": {
    "tags": []
   },
   "outputs": [
    {
     "name": "stderr",
     "output_type": "stream",
     "text": [
      "[2024-02-25 00:02:38,931] p6796 {1380157791.py:3} INFO - list_model_packages_response={'ModelPackageSummaryList': [{'ModelPackageGroupName': 'mlops-presto', 'ModelPackageVersion': 5, 'ModelPackageArn': 'arn:aws:sagemaker:us-east-1:218208277580:model-package/mlops-presto/5', 'CreationTime': datetime.datetime(2024, 2, 24, 23, 57, 10, 650000, tzinfo=tzlocal()), 'ModelPackageStatus': 'Completed', 'ModelApprovalStatus': 'Approved'}, {'ModelPackageGroupName': 'mlops-presto', 'ModelPackageVersion': 4, 'ModelPackageArn': 'arn:aws:sagemaker:us-east-1:218208277580:model-package/mlops-presto/4', 'CreationTime': datetime.datetime(2024, 2, 24, 3, 9, 42, 143000, tzinfo=tzlocal()), 'ModelPackageStatus': 'Completed', 'ModelApprovalStatus': 'PendingManualApproval'}, {'ModelPackageGroupName': 'mlops-presto', 'ModelPackageVersion': 3, 'ModelPackageArn': 'arn:aws:sagemaker:us-east-1:218208277580:model-package/mlops-presto/3', 'CreationTime': datetime.datetime(2024, 2, 24, 0, 34, 23, 794000, tzinfo=tzlocal()), 'ModelPackageStatus': 'Completed', 'ModelApprovalStatus': 'Approved'}, {'ModelPackageGroupName': 'mlops-presto', 'ModelPackageVersion': 2, 'ModelPackageArn': 'arn:aws:sagemaker:us-east-1:218208277580:model-package/mlops-presto/2', 'CreationTime': datetime.datetime(2024, 2, 23, 23, 54, 51, 281000, tzinfo=tzlocal()), 'ModelPackageStatus': 'Completed', 'ModelApprovalStatus': 'Approved'}, {'ModelPackageGroupName': 'mlops-presto', 'ModelPackageVersion': 1, 'ModelPackageArn': 'arn:aws:sagemaker:us-east-1:218208277580:model-package/mlops-presto/1', 'CreationTime': datetime.datetime(2024, 2, 23, 23, 53, 38, 764000, tzinfo=tzlocal()), 'ModelPackageStatus': 'Completed', 'ModelApprovalStatus': 'PendingManualApproval'}], 'ResponseMetadata': {'RequestId': '23a5c5ae-1827-41f0-a65f-2874e66ae67c', 'HTTPStatusCode': 200, 'HTTPHeaders': {'x-amzn-requestid': '23a5c5ae-1827-41f0-a65f-2874e66ae67c', 'content-type': 'application/x-amz-json-1.1', 'content-length': '1319', 'date': 'Sun, 25 Feb 2024 00:02:38 GMT'}, 'RetryAttempts': 0}}\n",
      "[2024-02-25 00:02:38,932] p6796 {1380157791.py:8} INFO - latest_model_version_arn=arn:aws:sagemaker:us-east-1:218208277580:model-package/mlops-presto/5\n"
     ]
    }
   ],
   "source": [
    "client = boto3.client(\"sagemaker\")\n",
    "list_model_packages_response = client.list_model_packages(ModelPackageGroupName=config['register_model_step']['model_group'])\n",
    "logger.info(f\"list_model_packages_response={list_model_packages_response}\")\n",
    "\n",
    "latest_model_version_arn = list_model_packages_response[\"ModelPackageSummaryList\"][0][\n",
    "    \"ModelPackageArn\"\n",
    "]\n",
    "logger.info(f\"latest_model_version_arn={latest_model_version_arn}\")"
   ]
  },
  {
   "cell_type": "code",
   "execution_count": 20,
   "metadata": {
    "tags": []
   },
   "outputs": [
    {
     "name": "stderr",
     "output_type": "stream",
     "text": [
      "[2024-02-25 00:02:40,311] p6796 {226519901.py:5} INFO - The latest approved model package is --> {'ModelPackageGroupName': 'mlops-presto', 'ModelPackageVersion': 5, 'ModelPackageArn': 'arn:aws:sagemaker:us-east-1:218208277580:model-package/mlops-presto/5', 'CreationTime': datetime.datetime(2024, 2, 24, 23, 57, 10, 650000, tzinfo=tzlocal()), 'InferenceSpecification': {'Containers': [{'Image': '683313688378.dkr.ecr.us-east-1.amazonaws.com/sagemaker-scikit-learn:0.23-1-cpu-py3', 'ImageDigest': 'sha256:e7fea5cd095518578d5cba832758d90d59cba68b7858464aabd2bffd83d96d03', 'ModelDataUrl': 's3://sagemaker-us-east-1-218208277580/waxtqwfd937y-Train-An-gVDb3Vrlj3-002-0cd6a0b8/output/model.tar.gz'}], 'SupportedTransformInstanceTypes': ['ml.m5.xlarge'], 'SupportedRealtimeInferenceInstanceTypes': ['ml.t2.medium', 'ml.m5.xlarge', 'ml.m5.large'], 'SupportedContentTypes': ['text/csv'], 'SupportedResponseMIMETypes': ['text/csv']}, 'ModelPackageStatus': 'Completed', 'ModelPackageStatusDetails': {'ValidationStatuses': [], 'ImageScanStatuses': []}, 'CertifyForMarketplace': False, 'ModelApprovalStatus': 'Approved', 'CreatedBy': {'IamIdentity': {'Arn': 'arn:aws:sts::218208277580:assumed-role/AmazonSageMaker-ExecutionRole-20230807T175994/sagemaker-pipeline-waxtqwfd937y-Register-Model-Regis', 'PrincipalId': 'AROATFTR2CRGLD57PVXEK:sagemaker-pipeline-waxtqwfd937y-Register-Model-Regis'}}, 'MetadataProperties': {'GeneratedBy': 'arn:aws:sagemaker:us-east-1:218208277580:pipeline/mlops-pipeline-presto/execution/waxtqwfd937y'}, 'ModelMetrics': {'ModelQuality': {'Statistics': {'ContentType': 'application/json', 'S3Uri': 's3://sagemaker-us-east-1-218208277580/mlops-pipeline-model/waxtqwfd937y/evaluation/evaluation.json'}}, 'Bias': {}, 'Explainability': {}}, 'LastModifiedTime': datetime.datetime(2024, 2, 25, 0, 2, 34, 634000, tzinfo=tzlocal()), 'LastModifiedBy': {'IamIdentity': {'Arn': 'arn:aws:iam::218208277580:user/newone', 'PrincipalId': 'AIDATFTR2CRGNZ6OWWRGX'}}, 'SkipModelValidation': 'None', 'ResponseMetadata': {'RequestId': 'b7aa831f-cfb7-4c33-87d6-d7d903c11934', 'HTTPStatusCode': 200, 'HTTPHeaders': {'x-amzn-requestid': 'b7aa831f-cfb7-4c33-87d6-d7d903c11934', 'content-type': 'application/x-amz-json-1.1', 'content-length': '1728', 'date': 'Sun, 25 Feb 2024 00:02:39 GMT'}, 'RetryAttempts': 0}}\n",
      "[2024-02-25 00:02:40,312] p6796 {226519901.py:7} INFO - The model data for the latest approved model arn arn:aws:sagemaker:us-east-1:218208277580:model-package/mlops-presto/5 is stored in s3://sagemaker-us-east-1-218208277580/waxtqwfd937y-Train-An-gVDb3Vrlj3-002-0cd6a0b8/output/model.tar.gz\n"
     ]
    }
   ],
   "source": [
    "try:\n",
    "    latest_approved_model_package = client.describe_model_package(ModelPackageName=latest_model_version_arn)\n",
    "\n",
    "    if latest_approved_model_package['ModelApprovalStatus'] == \"Approved\":\n",
    "        logger.info(f\"The latest approved model package is --> {latest_approved_model_package}\")\n",
    "        model_data_url = latest_approved_model_package['InferenceSpecification']['Containers'][0]['ModelDataUrl']\n",
    "        logger.info(f\"The model data for the latest approved model arn {latest_model_version_arn} is stored in {model_data_url}\")\n",
    "    else:\n",
    "        # If the model approval status is not PendingApproval, throw an error exception\n",
    "        error_message = f\"ModelApprovalStatus is not PendingApproval. Current status: {latest_approved_model_package['ModelApprovalStatus']}\"\n",
    "        logger.error(error_message)\n",
    "        raise ValueError(error_message)\n",
    "\n",
    "except Exception as e:\n",
    "    logger.error(f\"An error occurred while tracking the approved model: {str(e)}\")\n",
    "    raise e\n",
    "\n"
   ]
  },
  {
   "cell_type": "code",
   "execution_count": 23,
   "metadata": {
    "tags": []
   },
   "outputs": [],
   "source": [
    "## create the model image based on the model data and refer to the inference script as an entry point for \n",
    "## batch inference\n",
    "model = Model(\n",
    "    image_uri=image_uri,\n",
    "    entry_point=config['scripts']['batch_inference'],\n",
    "    model_data=model_data_url,\n",
    "    sagemaker_session=pipeline_session,\n",
    "    role=role,\n",
    ")"
   ]
  },
  {
   "cell_type": "markdown",
   "metadata": {},
   "source": [
    "#### Create the model image from the approved model for batch inference in the next step"
   ]
  },
  {
   "cell_type": "code",
   "execution_count": 24,
   "metadata": {
    "tags": []
   },
   "outputs": [],
   "source": [
    "step_create_model = ModelStep(\n",
    "    name=config['register_model_step']['model_name'],\n",
    "    step_args=model.create(instance_type=config['transform_step']['instance_type']),\n",
    ")"
   ]
  },
  {
   "cell_type": "markdown",
   "metadata": {},
   "source": [
    "### Define a Transform Step to Perform Batch Transformation\n",
    "\n",
    "Now that a model instance is defined, create a Transformer instance with the appropriate model type, compute instance type, and desired output S3 URI.\n",
    "\n",
    "Specifically, pass in the ModelName from the CreateModelStep, step_create_model properties. The CreateModelStep properties attribute matches the object model of the DescribeModel response object."
   ]
  },
  {
   "cell_type": "code",
   "execution_count": 25,
   "metadata": {
    "tags": []
   },
   "outputs": [],
   "source": [
    "\n",
    "\n",
    "# Capture the current time for recording the start and end time for the batch transform step\n",
    "et = datetime.utcnow()\n",
    "st = et - timedelta(hours=config['transform_step']['num_hours_to_go_back'])\n",
    "transformer = Transformer(\n",
    "    model_name=step_create_model.properties.ModelName,\n",
    "    instance_type=config['transform_step']['instance_type'],\n",
    "    instance_count=config['transform_step']['instance_count'],\n",
    "    strategy=\"MultiRecord\",\n",
    "    accept=\"text/csv\",\n",
    "    assemble_with=\"Line\",\n",
    "    output_path=f\"s3://{bucket}\",\n",
    "    tags = config['transform_step']['tags'], \n",
    "    env={\n",
    "        'START_TIME_UTC': st.strftime('%Y-%m-%d %H:%M:%S'), \n",
    "        'END_TIME_UTC': et.strftime('%Y-%m-%d %H:%M:%S'),\n",
    "    }\n",
    "    \n",
    ")"
   ]
  },
  {
   "cell_type": "markdown",
   "metadata": {},
   "source": [
    "### Pass in the transformer instance and the TransformInput with the batch_data pipeline parameter defined earlier."
   ]
  },
  {
   "cell_type": "code",
   "execution_count": 26,
   "metadata": {
    "tags": []
   },
   "outputs": [],
   "source": [
    "from sagemaker.inputs import TransformInput\n",
    "from sagemaker.workflow.steps import TransformStep\n",
    "\n",
    "# Assuming batch_prediction_data is the S3 path where your input data is stored\n",
    "transform_input = TransformInput(\n",
    "    data=batch_data_prep.properties.ProcessingOutputConfig.Outputs[\n",
    "                \"batch\" ## this refers to the batch data that is configured within s3 after the batch preprocessing step\n",
    "            ].S3Output.S3Uri,\n",
    "    \n",
    "    content_type=\"text/csv\", \n",
    "    split_type=\"Line\")\n",
    "\n",
    "step_transform = TransformStep(\n",
    "    name=config['transform_step']['step_name'], transformer=transformer, inputs=transform_input, \n",
    ")"
   ]
  },
  {
   "cell_type": "code",
   "execution_count": 29,
   "metadata": {
    "tags": []
   },
   "outputs": [],
   "source": [
    "from sagemaker.workflow.pipeline import Pipeline\n",
    "\n",
    "pipeline_name = config['pipeline']['transform_pipeline_name']\n",
    "\n",
    "batch_transform_pipeline = Pipeline(\n",
    "    name=pipeline_name,\n",
    "    parameters=\n",
    "    [processing_instance_type,\n",
    "    host_parameter,\n",
    "    presto_parameter,\n",
    "    region_parameter,\n",
    "    port_parameter,\n",
    "    target_parameter, \n",
    "    feature_parameter,\n",
    "    presto_catalog_parameter,\n",
    "    presto_schema_parameter,],\n",
    "    \n",
    "    steps=[\n",
    "        batch_data_prep,\n",
    "        step_create_model, \n",
    "        step_transform,\n",
    "    ],\n",
    ")"
   ]
  },
  {
   "cell_type": "code",
   "execution_count": 30,
   "metadata": {
    "tags": []
   },
   "outputs": [
    {
     "name": "stderr",
     "output_type": "stream",
     "text": [
      "[2024-02-25 00:04:30,668] p6796 {estimator.py:294} WARNING - instance_type is a PipelineVariable (<class 'sagemaker.workflow.parameters.ParameterString'>). Its interpreted value in execution time should not be of GPU types since GPU training is not supported for Scikit-Learn.\n",
      "[2024-02-25 00:04:30,876] p6796 {processing.py:1884} INFO - Uploaded code to s3://sagemaker-us-east-1-218208277580/mlops-batch-inference/code/ba1054aec71d572583ac1dc27fb900ed/sourcedir.tar.gz\n",
      "[2024-02-25 00:04:30,907] p6796 {processing.py:1976} INFO - runproc.sh uploaded to s3://sagemaker-us-east-1-218208277580/mlops-batch-inference/code/39e432141f034d8953ce214e26275035/runproc.sh\n",
      "[2024-02-25 00:04:30,925] p6796 {utilities.py:465} WARNING - Popping out 'ProcessingJobName' from the pipeline definition by default since it will be overridden at pipeline execution time. Please utilize the PipelineDefinitionConfig to persist this field in the pipeline definition if desired.\n",
      "[2024-02-25 00:04:30,929] p6796 {utilities.py:465} WARNING - Popping out 'ModelName' from the pipeline definition by default since it will be overridden at pipeline execution time. Please utilize the PipelineDefinitionConfig to persist this field in the pipeline definition if desired.\n",
      "[2024-02-25 00:04:30,930] p6796 {utilities.py:465} WARNING - Popping out 'TransformJobName' from the pipeline definition by default since it will be overridden at pipeline execution time. Please utilize the PipelineDefinitionConfig to persist this field in the pipeline definition if desired.\n",
      "[2024-02-25 00:04:31,369] p6796 {estimator.py:294} WARNING - instance_type is a PipelineVariable (<class 'sagemaker.workflow.parameters.ParameterString'>). Its interpreted value in execution time should not be of GPU types since GPU training is not supported for Scikit-Learn.\n",
      "[2024-02-25 00:04:31,472] p6796 {processing.py:1884} INFO - Uploaded code to s3://sagemaker-us-east-1-218208277580/mlops-batch-inference/code/ba1054aec71d572583ac1dc27fb900ed/sourcedir.tar.gz\n",
      "[2024-02-25 00:04:31,498] p6796 {processing.py:1976} INFO - runproc.sh uploaded to s3://sagemaker-us-east-1-218208277580/mlops-batch-inference/code/39e432141f034d8953ce214e26275035/runproc.sh\n",
      "[2024-02-25 00:04:31,501] p6796 {utilities.py:465} WARNING - Popping out 'ProcessingJobName' from the pipeline definition by default since it will be overridden at pipeline execution time. Please utilize the PipelineDefinitionConfig to persist this field in the pipeline definition if desired.\n",
      "[2024-02-25 00:04:31,502] p6796 {utilities.py:465} WARNING - Popping out 'ModelName' from the pipeline definition by default since it will be overridden at pipeline execution time. Please utilize the PipelineDefinitionConfig to persist this field in the pipeline definition if desired.\n",
      "[2024-02-25 00:04:31,504] p6796 {utilities.py:465} WARNING - Popping out 'TransformJobName' from the pipeline definition by default since it will be overridden at pipeline execution time. Please utilize the PipelineDefinitionConfig to persist this field in the pipeline definition if desired.\n"
     ]
    },
    {
     "data": {
      "text/plain": [
       "{'PipelineArn': 'arn:aws:sagemaker:us-east-1:218208277580:pipeline/mlops-batch-inference',\n",
       " 'ResponseMetadata': {'RequestId': '073c63bc-b6bc-4c90-ba0d-5a93467e6ca7',\n",
       "  'HTTPStatusCode': 200,\n",
       "  'HTTPHeaders': {'x-amzn-requestid': '073c63bc-b6bc-4c90-ba0d-5a93467e6ca7',\n",
       "   'content-type': 'application/x-amz-json-1.1',\n",
       "   'content-length': '89',\n",
       "   'date': 'Sun, 25 Feb 2024 00:04:31 GMT'},\n",
       "  'RetryAttempts': 0}}"
      ]
     },
     "execution_count": 30,
     "metadata": {},
     "output_type": "execute_result"
    }
   ],
   "source": [
    "batch_transform_pipeline.upsert(role_arn=role, tags = config['pipeline']['tags'])"
   ]
  },
  {
   "cell_type": "code",
   "execution_count": 31,
   "metadata": {
    "tags": []
   },
   "outputs": [],
   "source": [
    "execution = batch_transform_pipeline.start()"
   ]
  },
  {
   "cell_type": "code",
   "execution_count": 32,
   "metadata": {
    "tags": []
   },
   "outputs": [
    {
     "data": {
      "text/plain": [
       "{'PipelineArn': 'arn:aws:sagemaker:us-east-1:218208277580:pipeline/mlops-batch-inference',\n",
       " 'PipelineExecutionArn': 'arn:aws:sagemaker:us-east-1:218208277580:pipeline/mlops-batch-inference/execution/l4cyqc13rbwk',\n",
       " 'PipelineExecutionDisplayName': 'execution-1708819473137',\n",
       " 'PipelineExecutionStatus': 'Executing',\n",
       " 'CreationTime': datetime.datetime(2024, 2, 25, 0, 4, 33, 87000, tzinfo=tzlocal()),\n",
       " 'LastModifiedTime': datetime.datetime(2024, 2, 25, 0, 4, 33, 87000, tzinfo=tzlocal()),\n",
       " 'CreatedBy': {},\n",
       " 'LastModifiedBy': {},\n",
       " 'ResponseMetadata': {'RequestId': '20211a4b-675a-4106-9202-0d9e65415c99',\n",
       "  'HTTPStatusCode': 200,\n",
       "  'HTTPHeaders': {'x-amzn-requestid': '20211a4b-675a-4106-9202-0d9e65415c99',\n",
       "   'content-type': 'application/x-amz-json-1.1',\n",
       "   'content-length': '407',\n",
       "   'date': 'Sun, 25 Feb 2024 00:04:33 GMT'},\n",
       "  'RetryAttempts': 0}}"
      ]
     },
     "execution_count": 32,
     "metadata": {},
     "output_type": "execute_result"
    }
   ],
   "source": [
    "execution.describe()"
   ]
  },
  {
   "cell_type": "code",
   "execution_count": 33,
   "metadata": {
    "tags": []
   },
   "outputs": [
    {
     "name": "stderr",
     "output_type": "stream",
     "text": [
      "[2024-02-25 00:04:33,975] p6796 {392233496.py:2} INFO - starting pipeline=mlops-batch-inference\n",
      "[2024-02-25 00:14:36,509] p6796 {392233496.py:5} INFO - pipeline=mlops-batch-inference took 602.53 seconds to run\n"
     ]
    }
   ],
   "source": [
    "st = time.perf_counter()\n",
    "logger.info(f\"starting pipeline={batch_transform_pipeline.name}\")\n",
    "execution.wait()\n",
    "elapsed_time = time.perf_counter() - st\n",
    "logger.info(f\"pipeline={batch_transform_pipeline.name} took {elapsed_time:.2f} seconds to run\")"
   ]
  },
  {
   "cell_type": "code",
   "execution_count": 34,
   "metadata": {
    "tags": []
   },
   "outputs": [
    {
     "name": "stderr",
     "output_type": "stream",
     "text": [
      "[2024-02-25 00:14:36,616] p6796 {utils.py:20} INFO - pipeline steps=[\n",
      "  {\n",
      "    \"StepName\": \"mlops-RandomForestTransform\",\n",
      "    \"StartTime\": \"2024-02-25 00:09:29.372000+00:00\",\n",
      "    \"EndTime\": \"2024-02-25 00:14:28.851000+00:00\",\n",
      "    \"StepStatus\": \"Succeeded\",\n",
      "    \"Metadata\": {\n",
      "      \"TransformJob\": {\n",
      "        \"Arn\": \"arn:aws:sagemaker:us-east-1:218208277580:transform-job/pipelines-l4cyqc13rbwk-mlops-RandomForestTr-MO3TVjHpIk\"\n",
      "      }\n",
      "    },\n",
      "    \"AttemptCount\": 1\n",
      "  },\n",
      "  {\n",
      "    \"StepName\": \"mlops-presto-CreateModel\",\n",
      "    \"StartTime\": \"2024-02-25 00:04:34.306000+00:00\",\n",
      "    \"EndTime\": \"2024-02-25 00:04:35.847000+00:00\",\n",
      "    \"StepStatus\": \"Succeeded\",\n",
      "    \"Metadata\": {\n",
      "      \"Model\": {\n",
      "        \"Arn\": \"arn:aws:sagemaker:us-east-1:218208277580:model/pipelines-l4cyqc13rbwk-mlops-presto-createm-du8zs6t3hh\"\n",
      "      }\n",
      "    },\n",
      "    \"AttemptCount\": 1\n",
      "  },\n",
      "  {\n",
      "    \"StepName\": \"Preprocess-Data\",\n",
      "    \"StartTime\": \"2024-02-25 00:04:34.306000+00:00\",\n",
      "    \"EndTime\": \"2024-02-25 00:09:28.794000+00:00\",\n",
      "    \"StepStatus\": \"Succeeded\",\n",
      "    \"Metadata\": {\n",
      "      \"ProcessingJob\": {\n",
      "        \"Arn\": \"arn:aws:sagemaker:us-east-1:218208277580:processing-job/pipelines-l4cyqc13rbwk-Preprocess-Data-YS77YrBX3S\"\n",
      "      }\n",
      "    },\n",
      "    \"AttemptCount\": 1\n",
      "  }\n",
      "]\n",
      "[2024-02-25 00:14:36,618] p6796 {utils.py:28} INFO - for pipeline=mlops-batch-inference, failed_steps=0, steps_that_had_to_retried=0\n"
     ]
    }
   ],
   "source": [
    "print_pipeline_execution_summary(execution.list_steps(), batch_transform_pipeline.name)"
   ]
  },
  {
   "cell_type": "code",
   "execution_count": null,
   "metadata": {},
   "outputs": [],
   "source": []
  }
 ],
 "metadata": {
  "availableInstances": [
   {
    "_defaultOrder": 0,
    "_isFastLaunch": true,
    "category": "General purpose",
    "gpuNum": 0,
    "hideHardwareSpecs": false,
    "memoryGiB": 4,
    "name": "ml.t3.medium",
    "vcpuNum": 2
   },
   {
    "_defaultOrder": 1,
    "_isFastLaunch": false,
    "category": "General purpose",
    "gpuNum": 0,
    "hideHardwareSpecs": false,
    "memoryGiB": 8,
    "name": "ml.t3.large",
    "vcpuNum": 2
   },
   {
    "_defaultOrder": 2,
    "_isFastLaunch": false,
    "category": "General purpose",
    "gpuNum": 0,
    "hideHardwareSpecs": false,
    "memoryGiB": 16,
    "name": "ml.t3.xlarge",
    "vcpuNum": 4
   },
   {
    "_defaultOrder": 3,
    "_isFastLaunch": false,
    "category": "General purpose",
    "gpuNum": 0,
    "hideHardwareSpecs": false,
    "memoryGiB": 32,
    "name": "ml.t3.2xlarge",
    "vcpuNum": 8
   },
   {
    "_defaultOrder": 4,
    "_isFastLaunch": true,
    "category": "General purpose",
    "gpuNum": 0,
    "hideHardwareSpecs": false,
    "memoryGiB": 8,
    "name": "ml.m5.large",
    "vcpuNum": 2
   },
   {
    "_defaultOrder": 5,
    "_isFastLaunch": false,
    "category": "General purpose",
    "gpuNum": 0,
    "hideHardwareSpecs": false,
    "memoryGiB": 16,
    "name": "ml.m5.xlarge",
    "vcpuNum": 4
   },
   {
    "_defaultOrder": 6,
    "_isFastLaunch": false,
    "category": "General purpose",
    "gpuNum": 0,
    "hideHardwareSpecs": false,
    "memoryGiB": 32,
    "name": "ml.m5.2xlarge",
    "vcpuNum": 8
   },
   {
    "_defaultOrder": 7,
    "_isFastLaunch": false,
    "category": "General purpose",
    "gpuNum": 0,
    "hideHardwareSpecs": false,
    "memoryGiB": 64,
    "name": "ml.m5.4xlarge",
    "vcpuNum": 16
   },
   {
    "_defaultOrder": 8,
    "_isFastLaunch": false,
    "category": "General purpose",
    "gpuNum": 0,
    "hideHardwareSpecs": false,
    "memoryGiB": 128,
    "name": "ml.m5.8xlarge",
    "vcpuNum": 32
   },
   {
    "_defaultOrder": 9,
    "_isFastLaunch": false,
    "category": "General purpose",
    "gpuNum": 0,
    "hideHardwareSpecs": false,
    "memoryGiB": 192,
    "name": "ml.m5.12xlarge",
    "vcpuNum": 48
   },
   {
    "_defaultOrder": 10,
    "_isFastLaunch": false,
    "category": "General purpose",
    "gpuNum": 0,
    "hideHardwareSpecs": false,
    "memoryGiB": 256,
    "name": "ml.m5.16xlarge",
    "vcpuNum": 64
   },
   {
    "_defaultOrder": 11,
    "_isFastLaunch": false,
    "category": "General purpose",
    "gpuNum": 0,
    "hideHardwareSpecs": false,
    "memoryGiB": 384,
    "name": "ml.m5.24xlarge",
    "vcpuNum": 96
   },
   {
    "_defaultOrder": 12,
    "_isFastLaunch": false,
    "category": "General purpose",
    "gpuNum": 0,
    "hideHardwareSpecs": false,
    "memoryGiB": 8,
    "name": "ml.m5d.large",
    "vcpuNum": 2
   },
   {
    "_defaultOrder": 13,
    "_isFastLaunch": false,
    "category": "General purpose",
    "gpuNum": 0,
    "hideHardwareSpecs": false,
    "memoryGiB": 16,
    "name": "ml.m5d.xlarge",
    "vcpuNum": 4
   },
   {
    "_defaultOrder": 14,
    "_isFastLaunch": false,
    "category": "General purpose",
    "gpuNum": 0,
    "hideHardwareSpecs": false,
    "memoryGiB": 32,
    "name": "ml.m5d.2xlarge",
    "vcpuNum": 8
   },
   {
    "_defaultOrder": 15,
    "_isFastLaunch": false,
    "category": "General purpose",
    "gpuNum": 0,
    "hideHardwareSpecs": false,
    "memoryGiB": 64,
    "name": "ml.m5d.4xlarge",
    "vcpuNum": 16
   },
   {
    "_defaultOrder": 16,
    "_isFastLaunch": false,
    "category": "General purpose",
    "gpuNum": 0,
    "hideHardwareSpecs": false,
    "memoryGiB": 128,
    "name": "ml.m5d.8xlarge",
    "vcpuNum": 32
   },
   {
    "_defaultOrder": 17,
    "_isFastLaunch": false,
    "category": "General purpose",
    "gpuNum": 0,
    "hideHardwareSpecs": false,
    "memoryGiB": 192,
    "name": "ml.m5d.12xlarge",
    "vcpuNum": 48
   },
   {
    "_defaultOrder": 18,
    "_isFastLaunch": false,
    "category": "General purpose",
    "gpuNum": 0,
    "hideHardwareSpecs": false,
    "memoryGiB": 256,
    "name": "ml.m5d.16xlarge",
    "vcpuNum": 64
   },
   {
    "_defaultOrder": 19,
    "_isFastLaunch": false,
    "category": "General purpose",
    "gpuNum": 0,
    "hideHardwareSpecs": false,
    "memoryGiB": 384,
    "name": "ml.m5d.24xlarge",
    "vcpuNum": 96
   },
   {
    "_defaultOrder": 20,
    "_isFastLaunch": false,
    "category": "General purpose",
    "gpuNum": 0,
    "hideHardwareSpecs": true,
    "memoryGiB": 0,
    "name": "ml.geospatial.interactive",
    "supportedImageNames": [
     "sagemaker-geospatial-v1-0"
    ],
    "vcpuNum": 0
   },
   {
    "_defaultOrder": 21,
    "_isFastLaunch": true,
    "category": "Compute optimized",
    "gpuNum": 0,
    "hideHardwareSpecs": false,
    "memoryGiB": 4,
    "name": "ml.c5.large",
    "vcpuNum": 2
   },
   {
    "_defaultOrder": 22,
    "_isFastLaunch": false,
    "category": "Compute optimized",
    "gpuNum": 0,
    "hideHardwareSpecs": false,
    "memoryGiB": 8,
    "name": "ml.c5.xlarge",
    "vcpuNum": 4
   },
   {
    "_defaultOrder": 23,
    "_isFastLaunch": false,
    "category": "Compute optimized",
    "gpuNum": 0,
    "hideHardwareSpecs": false,
    "memoryGiB": 16,
    "name": "ml.c5.2xlarge",
    "vcpuNum": 8
   },
   {
    "_defaultOrder": 24,
    "_isFastLaunch": false,
    "category": "Compute optimized",
    "gpuNum": 0,
    "hideHardwareSpecs": false,
    "memoryGiB": 32,
    "name": "ml.c5.4xlarge",
    "vcpuNum": 16
   },
   {
    "_defaultOrder": 25,
    "_isFastLaunch": false,
    "category": "Compute optimized",
    "gpuNum": 0,
    "hideHardwareSpecs": false,
    "memoryGiB": 72,
    "name": "ml.c5.9xlarge",
    "vcpuNum": 36
   },
   {
    "_defaultOrder": 26,
    "_isFastLaunch": false,
    "category": "Compute optimized",
    "gpuNum": 0,
    "hideHardwareSpecs": false,
    "memoryGiB": 96,
    "name": "ml.c5.12xlarge",
    "vcpuNum": 48
   },
   {
    "_defaultOrder": 27,
    "_isFastLaunch": false,
    "category": "Compute optimized",
    "gpuNum": 0,
    "hideHardwareSpecs": false,
    "memoryGiB": 144,
    "name": "ml.c5.18xlarge",
    "vcpuNum": 72
   },
   {
    "_defaultOrder": 28,
    "_isFastLaunch": false,
    "category": "Compute optimized",
    "gpuNum": 0,
    "hideHardwareSpecs": false,
    "memoryGiB": 192,
    "name": "ml.c5.24xlarge",
    "vcpuNum": 96
   },
   {
    "_defaultOrder": 29,
    "_isFastLaunch": true,
    "category": "Accelerated computing",
    "gpuNum": 1,
    "hideHardwareSpecs": false,
    "memoryGiB": 16,
    "name": "ml.g4dn.xlarge",
    "vcpuNum": 4
   },
   {
    "_defaultOrder": 30,
    "_isFastLaunch": false,
    "category": "Accelerated computing",
    "gpuNum": 1,
    "hideHardwareSpecs": false,
    "memoryGiB": 32,
    "name": "ml.g4dn.2xlarge",
    "vcpuNum": 8
   },
   {
    "_defaultOrder": 31,
    "_isFastLaunch": false,
    "category": "Accelerated computing",
    "gpuNum": 1,
    "hideHardwareSpecs": false,
    "memoryGiB": 64,
    "name": "ml.g4dn.4xlarge",
    "vcpuNum": 16
   },
   {
    "_defaultOrder": 32,
    "_isFastLaunch": false,
    "category": "Accelerated computing",
    "gpuNum": 1,
    "hideHardwareSpecs": false,
    "memoryGiB": 128,
    "name": "ml.g4dn.8xlarge",
    "vcpuNum": 32
   },
   {
    "_defaultOrder": 33,
    "_isFastLaunch": false,
    "category": "Accelerated computing",
    "gpuNum": 4,
    "hideHardwareSpecs": false,
    "memoryGiB": 192,
    "name": "ml.g4dn.12xlarge",
    "vcpuNum": 48
   },
   {
    "_defaultOrder": 34,
    "_isFastLaunch": false,
    "category": "Accelerated computing",
    "gpuNum": 1,
    "hideHardwareSpecs": false,
    "memoryGiB": 256,
    "name": "ml.g4dn.16xlarge",
    "vcpuNum": 64
   },
   {
    "_defaultOrder": 35,
    "_isFastLaunch": false,
    "category": "Accelerated computing",
    "gpuNum": 1,
    "hideHardwareSpecs": false,
    "memoryGiB": 61,
    "name": "ml.p3.2xlarge",
    "vcpuNum": 8
   },
   {
    "_defaultOrder": 36,
    "_isFastLaunch": false,
    "category": "Accelerated computing",
    "gpuNum": 4,
    "hideHardwareSpecs": false,
    "memoryGiB": 244,
    "name": "ml.p3.8xlarge",
    "vcpuNum": 32
   },
   {
    "_defaultOrder": 37,
    "_isFastLaunch": false,
    "category": "Accelerated computing",
    "gpuNum": 8,
    "hideHardwareSpecs": false,
    "memoryGiB": 488,
    "name": "ml.p3.16xlarge",
    "vcpuNum": 64
   },
   {
    "_defaultOrder": 38,
    "_isFastLaunch": false,
    "category": "Accelerated computing",
    "gpuNum": 8,
    "hideHardwareSpecs": false,
    "memoryGiB": 768,
    "name": "ml.p3dn.24xlarge",
    "vcpuNum": 96
   },
   {
    "_defaultOrder": 39,
    "_isFastLaunch": false,
    "category": "Memory Optimized",
    "gpuNum": 0,
    "hideHardwareSpecs": false,
    "memoryGiB": 16,
    "name": "ml.r5.large",
    "vcpuNum": 2
   },
   {
    "_defaultOrder": 40,
    "_isFastLaunch": false,
    "category": "Memory Optimized",
    "gpuNum": 0,
    "hideHardwareSpecs": false,
    "memoryGiB": 32,
    "name": "ml.r5.xlarge",
    "vcpuNum": 4
   },
   {
    "_defaultOrder": 41,
    "_isFastLaunch": false,
    "category": "Memory Optimized",
    "gpuNum": 0,
    "hideHardwareSpecs": false,
    "memoryGiB": 64,
    "name": "ml.r5.2xlarge",
    "vcpuNum": 8
   },
   {
    "_defaultOrder": 42,
    "_isFastLaunch": false,
    "category": "Memory Optimized",
    "gpuNum": 0,
    "hideHardwareSpecs": false,
    "memoryGiB": 128,
    "name": "ml.r5.4xlarge",
    "vcpuNum": 16
   },
   {
    "_defaultOrder": 43,
    "_isFastLaunch": false,
    "category": "Memory Optimized",
    "gpuNum": 0,
    "hideHardwareSpecs": false,
    "memoryGiB": 256,
    "name": "ml.r5.8xlarge",
    "vcpuNum": 32
   },
   {
    "_defaultOrder": 44,
    "_isFastLaunch": false,
    "category": "Memory Optimized",
    "gpuNum": 0,
    "hideHardwareSpecs": false,
    "memoryGiB": 384,
    "name": "ml.r5.12xlarge",
    "vcpuNum": 48
   },
   {
    "_defaultOrder": 45,
    "_isFastLaunch": false,
    "category": "Memory Optimized",
    "gpuNum": 0,
    "hideHardwareSpecs": false,
    "memoryGiB": 512,
    "name": "ml.r5.16xlarge",
    "vcpuNum": 64
   },
   {
    "_defaultOrder": 46,
    "_isFastLaunch": false,
    "category": "Memory Optimized",
    "gpuNum": 0,
    "hideHardwareSpecs": false,
    "memoryGiB": 768,
    "name": "ml.r5.24xlarge",
    "vcpuNum": 96
   },
   {
    "_defaultOrder": 47,
    "_isFastLaunch": false,
    "category": "Accelerated computing",
    "gpuNum": 1,
    "hideHardwareSpecs": false,
    "memoryGiB": 16,
    "name": "ml.g5.xlarge",
    "vcpuNum": 4
   },
   {
    "_defaultOrder": 48,
    "_isFastLaunch": false,
    "category": "Accelerated computing",
    "gpuNum": 1,
    "hideHardwareSpecs": false,
    "memoryGiB": 32,
    "name": "ml.g5.2xlarge",
    "vcpuNum": 8
   },
   {
    "_defaultOrder": 49,
    "_isFastLaunch": false,
    "category": "Accelerated computing",
    "gpuNum": 1,
    "hideHardwareSpecs": false,
    "memoryGiB": 64,
    "name": "ml.g5.4xlarge",
    "vcpuNum": 16
   },
   {
    "_defaultOrder": 50,
    "_isFastLaunch": false,
    "category": "Accelerated computing",
    "gpuNum": 1,
    "hideHardwareSpecs": false,
    "memoryGiB": 128,
    "name": "ml.g5.8xlarge",
    "vcpuNum": 32
   },
   {
    "_defaultOrder": 51,
    "_isFastLaunch": false,
    "category": "Accelerated computing",
    "gpuNum": 1,
    "hideHardwareSpecs": false,
    "memoryGiB": 256,
    "name": "ml.g5.16xlarge",
    "vcpuNum": 64
   },
   {
    "_defaultOrder": 52,
    "_isFastLaunch": false,
    "category": "Accelerated computing",
    "gpuNum": 4,
    "hideHardwareSpecs": false,
    "memoryGiB": 192,
    "name": "ml.g5.12xlarge",
    "vcpuNum": 48
   },
   {
    "_defaultOrder": 53,
    "_isFastLaunch": false,
    "category": "Accelerated computing",
    "gpuNum": 4,
    "hideHardwareSpecs": false,
    "memoryGiB": 384,
    "name": "ml.g5.24xlarge",
    "vcpuNum": 96
   },
   {
    "_defaultOrder": 54,
    "_isFastLaunch": false,
    "category": "Accelerated computing",
    "gpuNum": 8,
    "hideHardwareSpecs": false,
    "memoryGiB": 768,
    "name": "ml.g5.48xlarge",
    "vcpuNum": 192
   },
   {
    "_defaultOrder": 55,
    "_isFastLaunch": false,
    "category": "Accelerated computing",
    "gpuNum": 8,
    "hideHardwareSpecs": false,
    "memoryGiB": 1152,
    "name": "ml.p4d.24xlarge",
    "vcpuNum": 96
   },
   {
    "_defaultOrder": 56,
    "_isFastLaunch": false,
    "category": "Accelerated computing",
    "gpuNum": 8,
    "hideHardwareSpecs": false,
    "memoryGiB": 1152,
    "name": "ml.p4de.24xlarge",
    "vcpuNum": 96
   },
   {
    "_defaultOrder": 57,
    "_isFastLaunch": false,
    "category": "Accelerated computing",
    "gpuNum": 0,
    "hideHardwareSpecs": false,
    "memoryGiB": 32,
    "name": "ml.trn1.2xlarge",
    "vcpuNum": 8
   },
   {
    "_defaultOrder": 58,
    "_isFastLaunch": false,
    "category": "Accelerated computing",
    "gpuNum": 0,
    "hideHardwareSpecs": false,
    "memoryGiB": 512,
    "name": "ml.trn1.32xlarge",
    "vcpuNum": 128
   },
   {
    "_defaultOrder": 59,
    "_isFastLaunch": false,
    "category": "Accelerated computing",
    "gpuNum": 0,
    "hideHardwareSpecs": false,
    "memoryGiB": 512,
    "name": "ml.trn1n.32xlarge",
    "vcpuNum": 128
   }
  ],
  "instance_type": "ml.t3.medium",
  "kernelspec": {
   "display_name": "Python 3 (Data Science 3.0)",
   "language": "python",
   "name": "python3__SAGEMAKER_INTERNAL__arn:aws:sagemaker:us-east-1:081325390199:image/sagemaker-data-science-310-v1"
  },
  "language_info": {
   "codemirror_mode": {
    "name": "ipython",
    "version": 3
   },
   "file_extension": ".py",
   "mimetype": "text/x-python",
   "name": "python",
   "nbconvert_exporter": "python",
   "pygments_lexer": "ipython3",
   "version": "3.10.6"
  }
 },
 "nbformat": 4,
 "nbformat_minor": 4
}
